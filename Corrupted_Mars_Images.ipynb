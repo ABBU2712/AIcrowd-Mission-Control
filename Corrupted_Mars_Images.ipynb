{
  "nbformat": 4,
  "nbformat_minor": 0,
  "metadata": {
    "colab": {
      "name": "Corrupted Mars Images.ipynb",
      "provenance": [],
      "authorship_tag": "ABX9TyOrS80+38czFKXqzVIXhkNI",
      "include_colab_link": true
    },
    "kernelspec": {
      "name": "python3",
      "display_name": "Python 3"
    },
    "widgets": {
      "application/vnd.jupyter.widget-state+json": {
        "9f8ecae94ad649029d7b9cbf4ffb6578": {
          "model_module": "@jupyter-widgets/controls",
          "model_name": "HBoxModel",
          "state": {
            "_view_name": "HBoxView",
            "_dom_classes": [],
            "_model_name": "HBoxModel",
            "_view_module": "@jupyter-widgets/controls",
            "_model_module_version": "1.5.0",
            "_view_count": null,
            "_view_module_version": "1.5.0",
            "box_style": "",
            "layout": "IPY_MODEL_8b110fcdd4f1490a9b8f544cea6f91a2",
            "_model_module": "@jupyter-widgets/controls",
            "children": [
              "IPY_MODEL_79993abdcfd8408288355555f2f9a3c3",
              "IPY_MODEL_de68118530934d5587ce4600e18eacc7"
            ]
          }
        },
        "8b110fcdd4f1490a9b8f544cea6f91a2": {
          "model_module": "@jupyter-widgets/base",
          "model_name": "LayoutModel",
          "state": {
            "_view_name": "LayoutView",
            "grid_template_rows": null,
            "right": null,
            "justify_content": null,
            "_view_module": "@jupyter-widgets/base",
            "overflow": null,
            "_model_module_version": "1.2.0",
            "_view_count": null,
            "flex_flow": null,
            "width": null,
            "min_width": null,
            "border": null,
            "align_items": null,
            "bottom": null,
            "_model_module": "@jupyter-widgets/base",
            "top": null,
            "grid_column": null,
            "overflow_y": null,
            "overflow_x": null,
            "grid_auto_flow": null,
            "grid_area": null,
            "grid_template_columns": null,
            "flex": null,
            "_model_name": "LayoutModel",
            "justify_items": null,
            "grid_row": null,
            "max_height": null,
            "align_content": null,
            "visibility": null,
            "align_self": null,
            "height": null,
            "min_height": null,
            "padding": null,
            "grid_auto_rows": null,
            "grid_gap": null,
            "max_width": null,
            "order": null,
            "_view_module_version": "1.2.0",
            "grid_template_areas": null,
            "object_position": null,
            "object_fit": null,
            "grid_auto_columns": null,
            "margin": null,
            "display": null,
            "left": null
          }
        },
        "79993abdcfd8408288355555f2f9a3c3": {
          "model_module": "@jupyter-widgets/controls",
          "model_name": "FloatProgressModel",
          "state": {
            "_view_name": "ProgressView",
            "style": "IPY_MODEL_1d2e2b7fc348468282102a144d0cb3c9",
            "_dom_classes": [],
            "description": "100%",
            "_model_name": "FloatProgressModel",
            "bar_style": "success",
            "max": 5000,
            "_view_module": "@jupyter-widgets/controls",
            "_model_module_version": "1.5.0",
            "value": 5000,
            "_view_count": null,
            "_view_module_version": "1.5.0",
            "orientation": "horizontal",
            "min": 0,
            "description_tooltip": null,
            "_model_module": "@jupyter-widgets/controls",
            "layout": "IPY_MODEL_bdbbdf61159347b09ec3e2691d34c85a"
          }
        },
        "de68118530934d5587ce4600e18eacc7": {
          "model_module": "@jupyter-widgets/controls",
          "model_name": "HTMLModel",
          "state": {
            "_view_name": "HTMLView",
            "style": "IPY_MODEL_8824a75491ad4b23b826e5cecbadd637",
            "_dom_classes": [],
            "description": "",
            "_model_name": "HTMLModel",
            "placeholder": "​",
            "_view_module": "@jupyter-widgets/controls",
            "_model_module_version": "1.5.0",
            "value": " 5000/5000 [01:42&lt;00:00, 48.83it/s]",
            "_view_count": null,
            "_view_module_version": "1.5.0",
            "description_tooltip": null,
            "_model_module": "@jupyter-widgets/controls",
            "layout": "IPY_MODEL_d5033c79f79b416794e7c6b7f26bb6df"
          }
        },
        "1d2e2b7fc348468282102a144d0cb3c9": {
          "model_module": "@jupyter-widgets/controls",
          "model_name": "ProgressStyleModel",
          "state": {
            "_view_name": "StyleView",
            "_model_name": "ProgressStyleModel",
            "description_width": "initial",
            "_view_module": "@jupyter-widgets/base",
            "_model_module_version": "1.5.0",
            "_view_count": null,
            "_view_module_version": "1.2.0",
            "bar_color": null,
            "_model_module": "@jupyter-widgets/controls"
          }
        },
        "bdbbdf61159347b09ec3e2691d34c85a": {
          "model_module": "@jupyter-widgets/base",
          "model_name": "LayoutModel",
          "state": {
            "_view_name": "LayoutView",
            "grid_template_rows": null,
            "right": null,
            "justify_content": null,
            "_view_module": "@jupyter-widgets/base",
            "overflow": null,
            "_model_module_version": "1.2.0",
            "_view_count": null,
            "flex_flow": null,
            "width": null,
            "min_width": null,
            "border": null,
            "align_items": null,
            "bottom": null,
            "_model_module": "@jupyter-widgets/base",
            "top": null,
            "grid_column": null,
            "overflow_y": null,
            "overflow_x": null,
            "grid_auto_flow": null,
            "grid_area": null,
            "grid_template_columns": null,
            "flex": null,
            "_model_name": "LayoutModel",
            "justify_items": null,
            "grid_row": null,
            "max_height": null,
            "align_content": null,
            "visibility": null,
            "align_self": null,
            "height": null,
            "min_height": null,
            "padding": null,
            "grid_auto_rows": null,
            "grid_gap": null,
            "max_width": null,
            "order": null,
            "_view_module_version": "1.2.0",
            "grid_template_areas": null,
            "object_position": null,
            "object_fit": null,
            "grid_auto_columns": null,
            "margin": null,
            "display": null,
            "left": null
          }
        },
        "8824a75491ad4b23b826e5cecbadd637": {
          "model_module": "@jupyter-widgets/controls",
          "model_name": "DescriptionStyleModel",
          "state": {
            "_view_name": "StyleView",
            "_model_name": "DescriptionStyleModel",
            "description_width": "",
            "_view_module": "@jupyter-widgets/base",
            "_model_module_version": "1.5.0",
            "_view_count": null,
            "_view_module_version": "1.2.0",
            "_model_module": "@jupyter-widgets/controls"
          }
        },
        "d5033c79f79b416794e7c6b7f26bb6df": {
          "model_module": "@jupyter-widgets/base",
          "model_name": "LayoutModel",
          "state": {
            "_view_name": "LayoutView",
            "grid_template_rows": null,
            "right": null,
            "justify_content": null,
            "_view_module": "@jupyter-widgets/base",
            "overflow": null,
            "_model_module_version": "1.2.0",
            "_view_count": null,
            "flex_flow": null,
            "width": null,
            "min_width": null,
            "border": null,
            "align_items": null,
            "bottom": null,
            "_model_module": "@jupyter-widgets/base",
            "top": null,
            "grid_column": null,
            "overflow_y": null,
            "overflow_x": null,
            "grid_auto_flow": null,
            "grid_area": null,
            "grid_template_columns": null,
            "flex": null,
            "_model_name": "LayoutModel",
            "justify_items": null,
            "grid_row": null,
            "max_height": null,
            "align_content": null,
            "visibility": null,
            "align_self": null,
            "height": null,
            "min_height": null,
            "padding": null,
            "grid_auto_rows": null,
            "grid_gap": null,
            "max_width": null,
            "order": null,
            "_view_module_version": "1.2.0",
            "grid_template_areas": null,
            "object_position": null,
            "object_fit": null,
            "grid_auto_columns": null,
            "margin": null,
            "display": null,
            "left": null
          }
        }
      }
    }
  },
  "cells": [
    {
      "cell_type": "markdown",
      "metadata": {
        "id": "view-in-github",
        "colab_type": "text"
      },
      "source": [
        "<a href=\"https://colab.research.google.com/github/ABBU2712/AIcrowd-Mission-Control/blob/main/Corrupted_Mars_Images.ipynb\" target=\"_parent\"><img src=\"https://colab.research.google.com/assets/colab-badge.svg\" alt=\"Open In Colab\"/></a>"
      ]
    },
    {
      "cell_type": "markdown",
      "metadata": {
        "id": "P8RRM71nvdg1"
      },
      "source": [
        "##Installing AI-Crowd Client "
      ]
    },
    {
      "cell_type": "code",
      "metadata": {
        "colab": {
          "base_uri": "https://localhost:8080/"
        },
        "id": "DiU9UOiyl-Rm",
        "outputId": "2489719b-e569-4bb7-c118-0569bfcd5025"
      },
      "source": [
        "!pip install aicrowd-cli"
      ],
      "execution_count": 1,
      "outputs": [
        {
          "output_type": "stream",
          "text": [
            "Collecting aicrowd-cli\n",
            "\u001b[?25l  Downloading https://files.pythonhosted.org/packages/2c/28/eaa46e7949fe877ca1481b8b72c205c511ce4ce5e81ada9111b51ff40e78/aicrowd_cli-0.1.1-py3-none-any.whl (42kB)\n",
            "\u001b[K     |████████████████████████████████| 51kB 2.7MB/s \n",
            "\u001b[?25hCollecting requests-toolbelt\n",
            "\u001b[?25l  Downloading https://files.pythonhosted.org/packages/60/ef/7681134338fc097acef8d9b2f8abe0458e4d87559c689a8c306d0957ece5/requests_toolbelt-0.9.1-py2.py3-none-any.whl (54kB)\n",
            "\u001b[K     |████████████████████████████████| 61kB 5.1MB/s \n",
            "\u001b[?25hRequirement already satisfied: toml in /usr/local/lib/python3.7/dist-packages (from aicrowd-cli) (0.10.2)\n",
            "Requirement already satisfied: tqdm in /usr/local/lib/python3.7/dist-packages (from aicrowd-cli) (4.41.1)\n",
            "Requirement already satisfied: requests in /usr/local/lib/python3.7/dist-packages (from aicrowd-cli) (2.23.0)\n",
            "Collecting rich\n",
            "\u001b[?25l  Downloading https://files.pythonhosted.org/packages/15/e3/7929cc640f14bffc835bba5efb2f9177007e536429d9fe145765e5f221c4/rich-9.13.0-py3-none-any.whl (197kB)\n",
            "\u001b[K     |████████████████████████████████| 204kB 15.2MB/s \n",
            "\u001b[?25hRequirement already satisfied: click<8,>=7.1.2 in /usr/local/lib/python3.7/dist-packages (from aicrowd-cli) (7.1.2)\n",
            "Collecting gitpython\n",
            "\u001b[?25l  Downloading https://files.pythonhosted.org/packages/a6/99/98019716955ba243657daedd1de8f3a88ca1f5b75057c38e959db22fb87b/GitPython-3.1.14-py3-none-any.whl (159kB)\n",
            "\u001b[K     |████████████████████████████████| 163kB 21.1MB/s \n",
            "\u001b[?25hRequirement already satisfied: urllib3!=1.25.0,!=1.25.1,<1.26,>=1.21.1 in /usr/local/lib/python3.7/dist-packages (from requests->aicrowd-cli) (1.24.3)\n",
            "Requirement already satisfied: idna<3,>=2.5 in /usr/local/lib/python3.7/dist-packages (from requests->aicrowd-cli) (2.10)\n",
            "Requirement already satisfied: chardet<4,>=3.0.2 in /usr/local/lib/python3.7/dist-packages (from requests->aicrowd-cli) (3.0.4)\n",
            "Requirement already satisfied: certifi>=2017.4.17 in /usr/local/lib/python3.7/dist-packages (from requests->aicrowd-cli) (2020.12.5)\n",
            "Collecting colorama<0.5.0,>=0.4.0\n",
            "  Downloading https://files.pythonhosted.org/packages/44/98/5b86278fbbf250d239ae0ecb724f8572af1c91f4a11edf4d36a206189440/colorama-0.4.4-py2.py3-none-any.whl\n",
            "Collecting commonmark<0.10.0,>=0.9.0\n",
            "\u001b[?25l  Downloading https://files.pythonhosted.org/packages/b1/92/dfd892312d822f36c55366118b95d914e5f16de11044a27cf10a7d71bbbf/commonmark-0.9.1-py2.py3-none-any.whl (51kB)\n",
            "\u001b[K     |████████████████████████████████| 51kB 5.7MB/s \n",
            "\u001b[?25hRequirement already satisfied: typing-extensions<4.0.0,>=3.7.4 in /usr/local/lib/python3.7/dist-packages (from rich->aicrowd-cli) (3.7.4.3)\n",
            "Requirement already satisfied: pygments<3.0.0,>=2.6.0 in /usr/local/lib/python3.7/dist-packages (from rich->aicrowd-cli) (2.6.1)\n",
            "Collecting gitdb<5,>=4.0.1\n",
            "\u001b[?25l  Downloading https://files.pythonhosted.org/packages/48/11/d1800bca0a3bae820b84b7d813ad1eff15a48a64caea9c823fc8c1b119e8/gitdb-4.0.5-py3-none-any.whl (63kB)\n",
            "\u001b[K     |████████████████████████████████| 71kB 7.4MB/s \n",
            "\u001b[?25hCollecting smmap<4,>=3.0.1\n",
            "  Downloading https://files.pythonhosted.org/packages/d5/1e/6130925131f639b2acde0f7f18b73e33ce082ff2d90783c436b52040af5a/smmap-3.0.5-py2.py3-none-any.whl\n",
            "Installing collected packages: requests-toolbelt, colorama, commonmark, rich, smmap, gitdb, gitpython, aicrowd-cli\n",
            "Successfully installed aicrowd-cli-0.1.1 colorama-0.4.4 commonmark-0.9.1 gitdb-4.0.5 gitpython-3.1.14 requests-toolbelt-0.9.1 rich-9.13.0 smmap-3.0.5\n"
          ],
          "name": "stdout"
        }
      ]
    },
    {
      "cell_type": "code",
      "metadata": {
        "colab": {
          "base_uri": "https://localhost:8080/"
        },
        "id": "DHdGqqN3mEHC",
        "outputId": "b3f84b5d-5d3e-4d8a-98e5-fb5f0fb6a677"
      },
      "source": [
        "API_KEY = \"08882bea69d263e6f7532dca7d30840c\"\r\n",
        "!aicrowd login --api-key $API_KEY"
      ],
      "execution_count": 2,
      "outputs": [
        {
          "output_type": "stream",
          "text": [
            "\u001b[32mAPI Key valid\u001b[0m\n",
            "\u001b[32mSaved API Key successfully!\u001b[0m\n"
          ],
          "name": "stdout"
        }
      ]
    },
    {
      "cell_type": "code",
      "metadata": {
        "colab": {
          "base_uri": "https://localhost:8080/"
        },
        "id": "49oWQxXJmZaW",
        "outputId": "ca3e658c-e298-439d-dd16-4d9a7fa7b877"
      },
      "source": [
        "!aicrowd dataset download --challenge image-correction -j 3"
      ],
      "execution_count": 3,
      "outputs": [
        {
          "output_type": "stream",
          "text": [
            "train.zip:   0% 0.00/1.59G [00:00<?, ?B/s]\n",
            "sample_submission.zip:   0% 0.00/41.5M [00:00<?, ?B/s]\u001b[A\n",
            "\n",
            "train.zip:   2% 33.6M/1.59G [00:04<03:06, 8.33MB/s]\n",
            "sample_submission.zip:  81% 33.6M/41.5M [00:04<00:01, 7.10MB/s]\u001b[A\n",
            "sample_submission.zip: 100% 41.5M/41.5M [00:04<00:00, 9.37MB/s]\u001b[A\n",
            "\n",
            "sample_submission.zip: 100% 41.5M/41.5M [00:04<00:00, 8.39MB/s]\n",
            "\n",
            "test.zip:  11% 33.6M/315M [00:04<00:41, 6.80MB/s]\u001b[A\n",
            "\n",
            "train.zip:   4% 67.1M/1.59G [00:07<03:00, 8.43MB/s]\n",
            "\n",
            "val.zip:  21% 33.6M/158M [00:02<00:09, 13.1MB/s]\u001b[A\u001b[A\n",
            "test.zip:  21% 67.1M/315M [00:09<00:34, 7.17MB/s]\u001b[A\n",
            "\n",
            "train.zip:   6% 101M/1.59G [00:11<02:51, 8.64MB/s] \n",
            "\n",
            "val.zip:  64% 101M/158M [00:06<00:03, 15.4MB/s] \u001b[A\u001b[A\n",
            "test.zip:  32% 101M/315M [00:12<00:28, 7.53MB/s] \u001b[A\n",
            "\n",
            "train.zip:   8% 134M/1.59G [00:14<02:39, 9.13MB/s]\n",
            "\n",
            "val.zip: 100% 158M/158M [00:09<00:00, 17.5MB/s]\n",
            "\n",
            "train.zip:  13% 201M/1.59G [00:21<02:24, 9.62MB/s]\n",
            "train.zip:  15% 235M/1.59G [00:25<02:31, 8.94MB/s]\n",
            "train.zip:  17% 268M/1.59G [00:28<02:18, 9.51MB/s]\n",
            "train.zip:  21% 336M/1.59G [00:35<02:13, 9.39MB/s]\n",
            "train.zip:  23% 369M/1.59G [00:39<02:06, 9.64MB/s]\n",
            "test.zip:  96% 302M/315M [00:39<00:01, 7.79MB/s]\u001b[A\n",
            "test.zip: 100% 315M/315M [00:40<00:00, 7.82MB/s]\n",
            "train.zip: 100% 1.59G/1.59G [02:47<00:00, 9.49MB/s]\n"
          ],
          "name": "stdout"
        }
      ]
    },
    {
      "cell_type": "code",
      "metadata": {
        "id": "Ph9cYQsfmdK4"
      },
      "source": [
        "!rm -rf data\r\n",
        "!mkdir data\r\n",
        "\r\n",
        "\r\n",
        "!unzip train.zip -d data/train >/dev/null\r\n",
        "!unzip val.zip -d data/val >/dev/null\r\n",
        "!unzip test.zip -d data/test >/dev/null\r\n",
        "!unzip sample_submission.zip -d data/sample_submission >/dev/null"
      ],
      "execution_count": 4,
      "outputs": []
    },
    {
      "cell_type": "markdown",
      "metadata": {
        "id": "RmNCz1nNvnyh"
      },
      "source": [
        "##Importing The Libraries"
      ]
    },
    {
      "cell_type": "code",
      "metadata": {
        "id": "E66dys0ymf-1"
      },
      "source": [
        "import cv2\r\n",
        "import matplotlib.pyplot as plt\r\n",
        "import os\r\n",
        "from PIL import Image\r\n",
        "from glob import glob\r\n",
        "import random\r\n",
        "from tqdm.notebook import tqdm "
      ],
      "execution_count": 5,
      "outputs": []
    },
    {
      "cell_type": "code",
      "metadata": {
        "id": "gnso0WmMmjUf"
      },
      "source": [
        "data_directiory = \"data\"\r\n",
        "test_data_path = os.path.join(data_directiory, \"test/Corrupted_Images\")\r\n",
        "test_submission_path = \"Labels\""
      ],
      "execution_count": 6,
      "outputs": []
    },
    {
      "cell_type": "code",
      "metadata": {
        "colab": {
          "base_uri": "https://localhost:8080/",
          "height": 286
        },
        "id": "AGtWsPNGmpR_",
        "outputId": "313537bb-1aa9-4c3f-e89f-11578e156610"
      },
      "source": [
        "img = plt.imread(test_data_path+\"/0/start_image.jpg\")\r\n",
        "plt.imshow(img)"
      ],
      "execution_count": 7,
      "outputs": [
        {
          "output_type": "execute_result",
          "data": {
            "text/plain": [
              "<matplotlib.image.AxesImage at 0x7f096d9dd290>"
            ]
          },
          "metadata": {
            "tags": []
          },
          "execution_count": 7
        },
        {
          "output_type": "display_data",
          "data": {
            "image/png": "[encoded data removed]",
            "text/plain": [
              "<Figure size 432x288 with 1 Axes>"
            ]
          },
          "metadata": {
            "tags": [],
            "needs_background": "light"
          }
        }
      ]
    },
    {
      "cell_type": "markdown",
      "metadata": {
        "id": "A_zTGuB-wXqX"
      },
      "source": [
        "##Training the model "
      ]
    },
    {
      "cell_type": "code",
      "metadata": {
        "id": "O9wQTbVTmtVy"
      },
      "source": [
        "!rm -rf Labels\r\n",
        "!mkdir Labels"
      ],
      "execution_count": 8,
      "outputs": []
    },
    {
      "cell_type": "code",
      "metadata": {
        "colab": {
          "base_uri": "https://localhost:8080/",
          "height": 66,
          "referenced_widgets": [
            "9f8ecae94ad649029d7b9cbf4ffb6578",
            "8b110fcdd4f1490a9b8f544cea6f91a2",
            "79993abdcfd8408288355555f2f9a3c3",
            "de68118530934d5587ce4600e18eacc7",
            "1d2e2b7fc348468282102a144d0cb3c9",
            "bdbbdf61159347b09ec3e2691d34c85a",
            "8824a75491ad4b23b826e5cecbadd637",
            "d5033c79f79b416794e7c6b7f26bb6df"
          ]
        },
        "id": "BxV813tfm3h7",
        "outputId": "0363281c-d37a-4e2a-d78a-29c0284d093a"
      },
      "source": [
        "# Output Image Width & hight\r\n",
        "image_width, image_height = 512, 512\r\n",
        "\r\n",
        "# Getting though corrupted images folder\r\n",
        "for img_folder_name in tqdm(os.listdir(test_data_path)):\r\n",
        "\r\n",
        "    # Getting all corrupted images name from the corrupted images folder\r\n",
        "    img_folder_path = os.path.join(test_data_path, img_folder_name)\r\n",
        "\r\n",
        "    # Creating a new blank image\r\n",
        "    prediction = Image.new(\"RGBA\",(image_width, image_height)) \r\n",
        "\r\n",
        "    # Groung though each corrupted image\r\n",
        "    for _currupted_img_name in glob(os.path.join(img_folder_path, \"*.jpg\")):\r\n",
        "        \r\n",
        "        # Opening corrupted image\r\n",
        "        currupted_im = Image.open(_currupted_img_name)\r\n",
        "        pp_width, pp_height = currupted_im.size\r\n",
        "\r\n",
        "        # Find Random location to paste the corrupted image into the blank image\r\n",
        "        random_x = random.randint(0, image_width - pp_width)\r\n",
        "        random_y = random.randint(0, image_height - pp_height)\r\n",
        "\r\n",
        "        # pasting the corrupted image into the blank imagee\r\n",
        "        prediction.paste(currupted_im, (random_x, random_y))\r\n",
        "\r\n",
        "    # Saving the output image :)\r\n",
        "    prediction.convert(\"RGB\").save(os.path.join(test_submission_path, f\"{img_folder_name}.jpg\")) "
      ],
      "execution_count": 9,
      "outputs": [
        {
          "output_type": "display_data",
          "data": {
            "application/vnd.jupyter.widget-view+json": {
              "model_id": "9f8ecae94ad649029d7b9cbf4ffb6578",
              "version_minor": 0,
              "version_major": 2
            },
            "text/plain": [
              "HBox(children=(FloatProgress(value=0.0, max=5000.0), HTML(value='')))"
            ]
          },
          "metadata": {
            "tags": []
          }
        },
        {
          "output_type": "stream",
          "text": [
            "\n"
          ],
          "name": "stdout"
        }
      ]
    },
    {
      "cell_type": "code",
      "metadata": {
        "id": "IBSJ8r25nvzC"
      },
      "source": [
        "!zip submission.zip -r Labels > /dev/null"
      ],
      "execution_count": 10,
      "outputs": []
    },
    {
      "cell_type": "code",
      "metadata": {
        "colab": {
          "base_uri": "https://localhost:8080/",
          "height": 286
        },
        "id": "CrCzxjT0nzOg",
        "outputId": "99d8effd-a8c5-47a8-fb3e-2aab7b661076"
      },
      "source": [
        "sample_output_img = plt.imread(os.path.join(test_submission_path, f\"0.jpg\"))\r\n",
        "plt.imshow(sample_output_img)"
      ],
      "execution_count": 11,
      "outputs": [
        {
          "output_type": "execute_result",
          "data": {
            "text/plain": [
              "<matplotlib.image.AxesImage at 0x7f096ca18ad0>"
            ]
          },
          "metadata": {
            "tags": []
          },
          "execution_count": 11
        },
        {
          "output_type": "display_data",
          "data": {
            "image/png": "[encoded data removed]",
            "text/plain": [
              "<Figure size 432x288 with 1 Axes>"
            ]
          },
          "metadata": {
            "tags": [],
            "needs_background": "light"
          }
        }
      ]
    },
    {
      "cell_type": "code",
      "metadata": {
        "colab": {
          "base_uri": "https://localhost:8080/"
        },
        "id": "5PMV8SMqn3rV",
        "outputId": "a98b33c6-36e6-44f5-c3a4-139f3db26a5b"
      },
      "source": [
        "!aicrowd submission create -c image-correction -f submission.zip"
      ],
      "execution_count": 12,
      "outputs": [
        {
          "output_type": "stream",
          "text": [
            "\u001b[2K\u001b[1;34msubmission.zip\u001b[0m \u001b[90m━━━━━━━━━━━━━━━━━━━━\u001b[0m \u001b[35m100.0%\u001b[0m • \u001b[32m125.8/125.8 MB\u001b[0m • \u001b[31m2.6 MB/s\u001b[0m • \u001b[36m0:00:00\u001b[0m\n",
            "\u001b[?25h                                                 ╭─────────────────────────╮                                                  \n",
            "                                                 │ \u001b[1mSuccessfully submitted!\u001b[0m │                                                  \n",
            "                                                 ╰─────────────────────────╯                                                  \n",
            "\u001b[3m                                                       Important links                                                        \u001b[0m\n",
            "┌──────────────────┬─────────────────────────────────────────────────────────────────────────────────────────────────────────┐\n",
            "│  This submission │ https://www.aicrowd.com/challenges/ai-blitz-7/problems/image-correction/submissions/126905              │\n",
            "│                  │                                                                                                         │\n",
            "│  All submissions │ https://www.aicrowd.com/challenges/ai-blitz-7/problems/image-correction/submissions?my_submissions=true │\n",
            "│                  │                                                                                                         │\n",
            "│      Leaderboard │ https://www.aicrowd.com/challenges/ai-blitz-7/problems/image-correction/leaderboards                    │\n",
            "│                  │                                                                                                         │\n",
            "│ Discussion forum │ https://discourse.aicrowd.com/c/ai-blitz-7                                                              │\n",
            "│                  │                                                                                                         │\n",
            "│   Challenge page │ https://www.aicrowd.com/challenges/ai-blitz-7/problems/image-correction                                 │\n",
            "└──────────────────┴─────────────────────────────────────────────────────────────────────────────────────────────────────────┘\n",
            "{'submission_id': 126905, 'created_at': '2021-03-17T14:40:19.162Z'}\n"
          ],
          "name": "stdout"
        }
      ]
    },
    {
      "cell_type": "code",
      "metadata": {
        "id": "dPuZTaz9n62G"
      },
      "source": [
        ""
      ],
      "execution_count": null,
      "outputs": []
    }
  ]
}